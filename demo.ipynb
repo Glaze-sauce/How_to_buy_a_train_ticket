{
 "cells": [
  {
   "cell_type": "code",
   "execution_count": 1,
   "metadata": {},
   "outputs": [],
   "source": [
    "# Initialize Jupyter Notebook\n",
    "from IPython.core.interactiveshell import InteractiveShell\n",
    "InteractiveShell.ast_node_interactivity=\"all\"\n",
    "%matplotlib inline\n",
    "# from matplotlib import pyplot as plt\n",
    "# plt.rcParams[\"font.sans-serif\"] = [\"SimHei\"]"
   ]
  },
  {
   "cell_type": "code",
   "execution_count": 2,
   "metadata": {},
   "outputs": [],
   "source": [
    "import time\n",
    "from selenium import webdriver\n",
    "from selenium.webdriver.common.by import By\n",
    "from selenium.webdriver.common.keys import Keys\n",
    "from selenium.webdriver.common.action_chains import ActionChains"
   ]
  },
  {
   "cell_type": "code",
   "execution_count": 18,
   "metadata": {},
   "outputs": [],
   "source": [
    "_from = \"深圳北\"\n",
    "_to   = \"广州南\"\n",
    "_date = \"2022-05-26\""
   ]
  },
  {
   "cell_type": "code",
   "execution_count": 20,
   "metadata": {},
   "outputs": [
    {
     "data": {
      "text/plain": [
       "{'identifier': '2'}"
      ]
     },
     "execution_count": 20,
     "metadata": {},
     "output_type": "execute_result"
    },
    {
     "name": "stdout",
     "output_type": "stream",
     "text": [
      "114\n",
      "114\n",
      "decision_leave ['2022-05-26 09:02', '2022-05-26 09:13', '2022-05-26 09:19', '2022-05-26 09:21', '2022-05-26 09:25', '2022-05-26 09:29', '2022-05-26 09:30', '2022-05-26 09:35', '2022-05-26 09:50']\n",
      "decision_reach ['2022-05-26 09:39', '2022-05-26 09:50', '2022-05-26 09:55', '2022-05-26 10:58', '2022-05-26 10:01', '2022-05-26 10:41', '2022-05-26 10:06', '2022-05-26 10:11', '2022-05-26 10:26']\n"
     ]
    }
   ],
   "source": [
    "driver =  webdriver.Chrome()\n",
    "driver.set_window_size(900,500)\n",
    "# bypass selenium detection\n",
    "driver.execute_cdp_cmd(\"Page.addScriptToEvaluateOnNewDocument\",\n",
    "                        {\"source\": \"\"\"Object.defineProperty(navigator, 'webdriver', {get: () => undefined})\"\"\"})\n",
    "# visit\n",
    "driver.get(\"https://kyfw.12306.cn/otn/resources/login.html\")\n",
    "driver.find_element(by=By.CSS_SELECTOR,value=\"#J-userName\").send_keys(your_account)\n",
    "time.sleep(1)\n",
    "driver.find_element(by=By.CSS_SELECTOR,value=\"#J-password\").send_keys(your_password)\n",
    "time.sleep(1)\n",
    "driver.find_element(by=By.CSS_SELECTOR,value=\"#J-login\").click()\n",
    "time.sleep(2)\n",
    "source = driver.find_element(by=By.CSS_SELECTOR,value=\"#nc_1_n1z\")\n",
    "target = driver.find_element(by=By.CSS_SELECTOR,value=\"#J-password\")\n",
    "time.sleep(2)\n",
    "# There is a login sliding authentication window.\n",
    "# It is the reason why I import `ActionChains`.\n",
    "# `duration` means how long, the unit of it is `ms`.\n",
    "# `duration=1500` means selenium will spend 1.5s on drag it. \n",
    "# It would be better to not set it too low.\n",
    "# After my practice, the setting of 1.5 seconds is the most robust.\n",
    "ActionChains(driver,duration=1500).drag_and_drop(source, target).perform()\n",
    "try:\n",
    "    time.sleep(2)\n",
    "    driver.find_element(by=By.CSS_SELECTOR,value=\"#nc_1_refresh1\").click()\n",
    "    time.sleep(5)\n",
    "    print(\"You have to drag **BY YOURSELF**\")\n",
    "    ActionChains(driver,duration=3000).drag_and_drop(source, target).perform()\n",
    "except:\n",
    "    time.sleep(1)\n",
    "driver.implicitly_wait(10)\n",
    "driver.find_element(by=By.CSS_SELECTOR,value=\"div.modal-ft > a\").click()\n",
    "hover = driver.find_element(by=By.CSS_SELECTOR,value=\"#J-chepiao > a\")\n",
    "ActionChains(driver,duration=2).move_to_element(hover).perform()\n",
    "driver.find_element(by=By.CSS_SELECTOR,value=\"#megamenu-3 > div:nth-child(1) > ul > li.nav_dan > a\").click()\n",
    "time.sleep(2)\n",
    "driver.find_element(by=By.CSS_SELECTOR,value=\"#qd_closeDefaultWarningWindowDialog_id\").click()\n",
    "time.sleep(2)\n",
    "driver.find_element(by=By.CSS_SELECTOR,value=\"#fromStationText\").click()\n",
    "driver.find_element(by=By.CSS_SELECTOR,value=\"#fromStationText\").send_keys(_from)\n",
    "driver.find_element(by=By.CSS_SELECTOR,value=\"#fromStationText\").send_keys(Keys.ENTER)\n",
    "driver.find_element(by=By.CSS_SELECTOR,value=\"#toStationText\").click()\n",
    "driver.find_element(by=By.CSS_SELECTOR,value=\"#toStationText\").send_keys(_to)\n",
    "driver.find_element(by=By.CSS_SELECTOR,value=\"#toStationText\").send_keys(Keys.ENTER)\n",
    "driver.find_element(by=By.CSS_SELECTOR,value=\"#train_date\").clear()\n",
    "driver.find_element(by=By.CSS_SELECTOR,value=\"#train_date\").click()\n",
    "driver.find_element(by=By.CSS_SELECTOR,value=\"#train_date\").send_keys(_date)\n",
    "driver.find_element(by=By.CSS_SELECTOR,value=\"#train_date\").send_keys(Keys.ENTER)\n",
    "time.sleep(1)\n",
    "driver.find_element(by=By.CSS_SELECTOR,value=\"#query_ticket\").click()\n",
    "time.sleep(2)\n",
    "driver.find_element(by=By.CSS_SELECTOR,value=\"#cc_from_station_{}_check\".format(_from)).click()\n",
    "time.sleep(2)\n",
    "driver.implicitly_wait(10)\n",
    "# Not every train can be booked, and some may not be booked because they are sold out.\n",
    "book = driver.find_elements(by=By.CSS_SELECTOR,value=\"td.no-br\")\n",
    "bookable = driver.find_elements(by=By.XPATH,value=\"//a[@class='btn72']/parent::td\")\n",
    "book_id_l = [i.id for i in book]\n",
    "bookable_id_l = [i.id for i in bookable]\n",
    "# Find tickets that can't be booked, which means I won't have to keep an eye on it\n",
    "non_bookable_index = [book_id_l.index(i) for i in book_id_l if i not in bookable_id_l]\n",
    "\n",
    "# leave time and reach time\n",
    "leave_t_element = driver.find_elements(by=By.CSS_SELECTOR,value=\"div.cds > strong.start-t\")\n",
    "reach_t_element = driver.find_elements(by=By.CSS_SELECTOR,value=\"div.cds > strong.color999\")\n",
    "for i in non_bookable_index:\n",
    "    leave_t_element[i] = None\n",
    "    reach_t_element[i] = None\n",
    "leave_t_element = [i for i in leave_t_element if i != None]\n",
    "reach_t_element = [i for i in reach_t_element if i != None]\n",
    "\n",
    "# The two lists should be the same length.\n",
    "# If this is not the case, then it means that something might be something wrong.\n",
    "# Output them is just to verify.\n",
    "print(len(leave_t_element))\n",
    "print(len(reach_t_element))\n",
    "\n",
    "leave_t = [time.strptime(str(_date)+\" \"+i.text,\"%Y-%m-%d %H:%M\") for i in leave_t_element]\n",
    "reach_t = [time.strptime(str(_date)+\" \"+i.text,\"%Y-%m-%d %H:%M\") for i in reach_t_element]\n",
    "ind_record = []\n",
    "decision_leave = []\n",
    "decision_reach = []\n",
    "for i in leave_t:\n",
    "    if int(i.tm_hour) >= 9 and int(i.tm_hour) < 10:\n",
    "        ind = leave_t.index(i)\n",
    "        decision_leave.append(leave_t[ind])\n",
    "        decision_reach.append(reach_t[ind])\n",
    "        ind_record.append(ind)\n",
    "print(\"decision_leave\",[time.strftime(\"%Y-%m-%d %H:%M\",i) for i in decision_leave])\n",
    "print(\"decision_reach\",[time.strftime(\"%Y-%m-%d %H:%M\",i) for i in decision_reach])\n",
    "final_leave = input(\"Choose `decision_leave` (copy and paste will be okay)\")\n",
    "book[leave_t.index(time.strptime(final_leave,\"%Y-%m-%d %H:%M\"))].click()\n",
    "time.sleep(1)\n",
    "passengers = driver.find_elements(by=By.CSS_SELECTOR,value=\"#normal_passenger_id > li > label\")\n",
    "names = [i.text for i in passengers]\n",
    "print(\"names\",names)\n",
    "passenger = input(\"Choose `names` (copy and paste will be okay)\")\n",
    "# check that person\n",
    "driver.find_element(by=By.CSS_SELECTOR,value=\"#normal_passenger_id > li:nth-child({}) > label\".format(names.index(passenger)+1)).click()\n",
    "time.sleep(1)\n",
    "driver.find_element(by=By.CSS_SELECTOR,value=\"#dialog_xsertcj_cancel\").click()\n",
    "time.sleep(1)\n",
    "driver.find_element(by=By.CSS_SELECTOR,value=\"#submitOrder_id\").click()\n",
    "time.sleep(1)\n",
    "driver.find_element(by=By.XPATH,value=\"/html/body/div[6]/div/div[5]/div[1]/div/div[2]/div[2]/div[3]/div[2]/div[2]/ul[2]/li[2]/a\").click()\n",
    "time.sleep(1)\n",
    "\n",
    "# This last line of code is to submit the order, if not commented out then you will truely submit the order.\n",
    "# If you are checking or debugging the code, I suggest you comment it out.😘\n",
    "# driver.find_element(by=By.CSS_SELECTOR,value=\"#qr_submit_id\").click()"
   ]
  },
  {
   "cell_type": "markdown",
   "metadata": {},
   "source": [
    "# Thank you for reading and have a great day!❤"
   ]
  }
 ],
 "metadata": {
  "interpreter": {
   "hash": "88279d2366fe020547cde40dd65aa0e3aa662a6ec1f3ca12d88834876c85e1a6"
  },
  "kernelspec": {
   "display_name": "Python 3.9.7 ('base')",
   "language": "python",
   "name": "python3"
  },
  "language_info": {
   "codemirror_mode": {
    "name": "ipython",
    "version": 3
   },
   "file_extension": ".py",
   "mimetype": "text/x-python",
   "name": "python",
   "nbconvert_exporter": "python",
   "pygments_lexer": "ipython3",
   "version": "3.9.7"
  },
  "orig_nbformat": 4
 },
 "nbformat": 4,
 "nbformat_minor": 2
}
